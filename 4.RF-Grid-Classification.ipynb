{
 "cells": [
  {
   "cell_type": "code",
   "execution_count": 1,
   "metadata": {},
   "outputs": [],
   "source": [
    "import numpy as np\n",
    "import matplotlib.pyplot as plt\n",
    "import pandas as pd"
   ]
  },
  {
   "cell_type": "code",
   "execution_count": 2,
   "metadata": {},
   "outputs": [],
   "source": [
    "dataset=pd.read_csv(\"Social_Network_Ads.csv\")"
   ]
  },
  {
   "cell_type": "code",
   "execution_count": 3,
   "metadata": {},
   "outputs": [],
   "source": [
    "data=pd.get_dummies(dataset,drop_first=True)"
   ]
  },
  {
   "cell_type": "code",
   "execution_count": 4,
   "metadata": {},
   "outputs": [
    {
     "data": {
      "text/plain": [
       "Index(['User ID', 'Age', 'EstimatedSalary', 'Purchased', 'Gender_Male'], dtype='object')"
      ]
     },
     "execution_count": 4,
     "metadata": {},
     "output_type": "execute_result"
    }
   ],
   "source": [
    "data.columns"
   ]
  },
  {
   "cell_type": "code",
   "execution_count": 5,
   "metadata": {},
   "outputs": [],
   "source": [
    "independent=data[['Age', 'EstimatedSalary','Gender_Male']]\n",
    "dependent=data[['Purchased']]"
   ]
  },
  {
   "cell_type": "code",
   "execution_count": 6,
   "metadata": {},
   "outputs": [],
   "source": [
    "from sklearn.model_selection import train_test_split\n",
    "x_train,x_test,y_train,y_test=train_test_split(independent,dependent,test_size=0.30,random_state=0)"
   ]
  },
  {
   "cell_type": "code",
   "execution_count": 7,
   "metadata": {},
   "outputs": [],
   "source": [
    "from sklearn.preprocessing import StandardScaler\n",
    "sc=StandardScaler()\n",
    "x_train=sc.fit_transform(x_train)\n",
    "x_test=sc.transform(x_test)"
   ]
  },
  {
   "cell_type": "code",
   "execution_count": 8,
   "metadata": {},
   "outputs": [],
   "source": [
    "from sklearn.ensemble import RandomForestClassifier"
   ]
  },
  {
   "cell_type": "code",
   "execution_count": 9,
   "metadata": {},
   "outputs": [
    {
     "name": "stderr",
     "output_type": "stream",
     "text": [
      "C:\\Users\\jagadeesh\\Anaconda3\\lib\\site-packages\\sklearn\\model_selection\\_split.py:1978: FutureWarning: The default value of cv will change from 3 to 5 in version 0.22. Specify it explicitly to silence this warning.\n",
      "  warnings.warn(CV_WARNING, FutureWarning)\n",
      "[Parallel(n_jobs=-1)]: Using backend LokyBackend with 12 concurrent workers.\n"
     ]
    },
    {
     "name": "stdout",
     "output_type": "stream",
     "text": [
      "Fitting 3 folds for each of 12 candidates, totalling 36 fits\n"
     ]
    },
    {
     "name": "stderr",
     "output_type": "stream",
     "text": [
      "[Parallel(n_jobs=-1)]: Done   8 tasks      | elapsed:    1.6s\n",
      "[Parallel(n_jobs=-1)]: Done  26 out of  36 | elapsed:    1.7s remaining:    0.6s\n",
      "[Parallel(n_jobs=-1)]: Done  36 out of  36 | elapsed:    1.8s finished\n",
      "C:\\Users\\jagadeesh\\Anaconda3\\lib\\site-packages\\sklearn\\model_selection\\_search.py:715: DataConversionWarning: A column-vector y was passed when a 1d array was expected. Please change the shape of y to (n_samples,), for example using ravel().\n",
      "  self.best_estimator_.fit(X, y, **fit_params)\n"
     ]
    },
    {
     "data": {
      "text/plain": [
       "GridSearchCV(cv='warn', error_score='raise-deprecating',\n",
       "             estimator=RandomForestClassifier(bootstrap=True, class_weight=None,\n",
       "                                              criterion='gini', max_depth=None,\n",
       "                                              max_features='auto',\n",
       "                                              max_leaf_nodes=None,\n",
       "                                              min_impurity_decrease=0.0,\n",
       "                                              min_impurity_split=None,\n",
       "                                              min_samples_leaf=1,\n",
       "                                              min_samples_split=2,\n",
       "                                              min_weight_fraction_leaf=0.0,\n",
       "                                              n_estimators='warn', n_jobs=None,\n",
       "                                              oob_score=False,\n",
       "                                              random_state=None, verbose=0,\n",
       "                                              warm_start=False),\n",
       "             iid='warn', n_jobs=-1,\n",
       "             param_grid={'criterion': ['gini', 'entropy'],\n",
       "                         'max_features': ['auto', 'sqrt', 'log2'],\n",
       "                         'n_estimators': [10, 100]},\n",
       "             pre_dispatch='2*n_jobs', refit=True, return_train_score=False,\n",
       "             scoring='f1', verbose=3)"
      ]
     },
     "execution_count": 9,
     "metadata": {},
     "output_type": "execute_result"
    }
   ],
   "source": [
    "from sklearn.model_selection import GridSearchCV\n",
    "\n",
    "param_grid={'criterion':['gini','entropy'],'max_features':['auto','sqrt','log2'], 'n_estimators':[10,100]}\n",
    "\n",
    "grid=GridSearchCV(RandomForestClassifier(),param_grid,refit=True,verbose=3,n_jobs=-1,scoring='f1')\n",
    "\n",
    "grid.fit(x_train,y_train)"
   ]
  },
  {
   "cell_type": "code",
   "execution_count": 10,
   "metadata": {},
   "outputs": [],
   "source": [
    "re=grid.cv_results_\n",
    "\n",
    "grid_pred=grid.predict(x_test)\n",
    "\n",
    "from sklearn.metrics import confusion_matrix\n",
    "cm=confusion_matrix(y_test,grid_pred)\n",
    "\n",
    "from sklearn.metrics import classification_report\n",
    "clf_report=classification_report(y_test,grid_pred)"
   ]
  },
  {
   "cell_type": "code",
   "execution_count": 11,
   "metadata": {},
   "outputs": [
    {
     "name": "stdout",
     "output_type": "stream",
     "text": [
      "              precision    recall  f1-score   support\n",
      "\n",
      "           0       0.94      0.94      0.94        79\n",
      "           1       0.88      0.88      0.88        41\n",
      "\n",
      "    accuracy                           0.92       120\n",
      "   macro avg       0.91      0.91      0.91       120\n",
      "weighted avg       0.92      0.92      0.92       120\n",
      "\n"
     ]
    }
   ],
   "source": [
    "print(clf_report)\n"
   ]
  },
  {
   "cell_type": "code",
   "execution_count": 12,
   "metadata": {},
   "outputs": [
    {
     "name": "stdout",
     "output_type": "stream",
     "text": [
      "[[74  5]\n",
      " [ 5 36]]\n"
     ]
    }
   ],
   "source": [
    "print(cm)"
   ]
  },
  {
   "cell_type": "code",
   "execution_count": 13,
   "metadata": {},
   "outputs": [
    {
     "name": "stdout",
     "output_type": "stream",
     "text": [
      "The f1_macro value for best parameter{'criterion': 'gini', 'max_features': 'sqrt', 'n_estimators': 100}: 0.9166666666666666\n"
     ]
    }
   ],
   "source": [
    "from sklearn.metrics import f1_score\n",
    "f1_macro=f1_score(y_test,grid_pred,average='weighted')\n",
    "print(\"The f1_macro value for best parameter{}:\".format(grid.best_params_),f1_macro)"
   ]
  },
  {
   "cell_type": "code",
   "execution_count": 14,
   "metadata": {},
   "outputs": [
    {
     "data": {
      "text/plain": [
       "0.9644952145723988"
      ]
     },
     "execution_count": 14,
     "metadata": {},
     "output_type": "execute_result"
    }
   ],
   "source": [
    "from sklearn.metrics import roc_auc_score\n",
    "roc_auc_score(y_test,grid.predict_proba(x_test)[:,1])"
   ]
  },
  {
   "cell_type": "code",
   "execution_count": 15,
   "metadata": {},
   "outputs": [],
   "source": [
    "table=pd.DataFrame.from_dict(re)"
   ]
  },
  {
   "cell_type": "code",
   "execution_count": 16,
   "metadata": {},
   "outputs": [
    {
     "data": {
      "text/html": [
       "<div>\n",
       "<style scoped>\n",
       "    .dataframe tbody tr th:only-of-type {\n",
       "        vertical-align: middle;\n",
       "    }\n",
       "\n",
       "    .dataframe tbody tr th {\n",
       "        vertical-align: top;\n",
       "    }\n",
       "\n",
       "    .dataframe thead th {\n",
       "        text-align: right;\n",
       "    }\n",
       "</style>\n",
       "<table border=\"1\" class=\"dataframe\">\n",
       "  <thead>\n",
       "    <tr style=\"text-align: right;\">\n",
       "      <th></th>\n",
       "      <th>mean_fit_time</th>\n",
       "      <th>std_fit_time</th>\n",
       "      <th>mean_score_time</th>\n",
       "      <th>std_score_time</th>\n",
       "      <th>param_criterion</th>\n",
       "      <th>param_max_features</th>\n",
       "      <th>param_n_estimators</th>\n",
       "      <th>params</th>\n",
       "      <th>split0_test_score</th>\n",
       "      <th>split1_test_score</th>\n",
       "      <th>split2_test_score</th>\n",
       "      <th>mean_test_score</th>\n",
       "      <th>std_test_score</th>\n",
       "      <th>rank_test_score</th>\n",
       "    </tr>\n",
       "  </thead>\n",
       "  <tbody>\n",
       "    <tr>\n",
       "      <td>0</td>\n",
       "      <td>0.020454</td>\n",
       "      <td>0.007968</td>\n",
       "      <td>0.002671</td>\n",
       "      <td>0.003778</td>\n",
       "      <td>gini</td>\n",
       "      <td>auto</td>\n",
       "      <td>10</td>\n",
       "      <td>{'criterion': 'gini', 'max_features': 'auto', ...</td>\n",
       "      <td>0.776119</td>\n",
       "      <td>0.828571</td>\n",
       "      <td>0.865672</td>\n",
       "      <td>0.823285</td>\n",
       "      <td>0.036781</td>\n",
       "      <td>9</td>\n",
       "    </tr>\n",
       "    <tr>\n",
       "      <td>1</td>\n",
       "      <td>0.077933</td>\n",
       "      <td>0.001402</td>\n",
       "      <td>0.011641</td>\n",
       "      <td>0.006105</td>\n",
       "      <td>gini</td>\n",
       "      <td>auto</td>\n",
       "      <td>100</td>\n",
       "      <td>{'criterion': 'gini', 'max_features': 'auto', ...</td>\n",
       "      <td>0.811594</td>\n",
       "      <td>0.833333</td>\n",
       "      <td>0.911765</td>\n",
       "      <td>0.852086</td>\n",
       "      <td>0.043014</td>\n",
       "      <td>4</td>\n",
       "    </tr>\n",
       "    <tr>\n",
       "      <td>2</td>\n",
       "      <td>0.010528</td>\n",
       "      <td>0.007674</td>\n",
       "      <td>0.005233</td>\n",
       "      <td>0.007400</td>\n",
       "      <td>gini</td>\n",
       "      <td>sqrt</td>\n",
       "      <td>10</td>\n",
       "      <td>{'criterion': 'gini', 'max_features': 'sqrt', ...</td>\n",
       "      <td>0.776119</td>\n",
       "      <td>0.821918</td>\n",
       "      <td>0.843750</td>\n",
       "      <td>0.813794</td>\n",
       "      <td>0.028222</td>\n",
       "      <td>10</td>\n",
       "    </tr>\n",
       "    <tr>\n",
       "      <td>3</td>\n",
       "      <td>0.047633</td>\n",
       "      <td>0.000110</td>\n",
       "      <td>0.004388</td>\n",
       "      <td>0.000267</td>\n",
       "      <td>gini</td>\n",
       "      <td>sqrt</td>\n",
       "      <td>100</td>\n",
       "      <td>{'criterion': 'gini', 'max_features': 'sqrt', ...</td>\n",
       "      <td>0.828571</td>\n",
       "      <td>0.849315</td>\n",
       "      <td>0.895522</td>\n",
       "      <td>0.857699</td>\n",
       "      <td>0.027988</td>\n",
       "      <td>1</td>\n",
       "    </tr>\n",
       "    <tr>\n",
       "      <td>4</td>\n",
       "      <td>0.015111</td>\n",
       "      <td>0.000747</td>\n",
       "      <td>0.000669</td>\n",
       "      <td>0.000946</td>\n",
       "      <td>gini</td>\n",
       "      <td>log2</td>\n",
       "      <td>10</td>\n",
       "      <td>{'criterion': 'gini', 'max_features': 'log2', ...</td>\n",
       "      <td>0.761905</td>\n",
       "      <td>0.800000</td>\n",
       "      <td>0.825397</td>\n",
       "      <td>0.795646</td>\n",
       "      <td>0.026124</td>\n",
       "      <td>12</td>\n",
       "    </tr>\n",
       "    <tr>\n",
       "      <td>5</td>\n",
       "      <td>0.076003</td>\n",
       "      <td>0.009727</td>\n",
       "      <td>0.008017</td>\n",
       "      <td>0.006549</td>\n",
       "      <td>gini</td>\n",
       "      <td>log2</td>\n",
       "      <td>100</td>\n",
       "      <td>{'criterion': 'gini', 'max_features': 'log2', ...</td>\n",
       "      <td>0.794118</td>\n",
       "      <td>0.833333</td>\n",
       "      <td>0.878788</td>\n",
       "      <td>0.835265</td>\n",
       "      <td>0.034624</td>\n",
       "      <td>6</td>\n",
       "    </tr>\n",
       "    <tr>\n",
       "      <td>6</td>\n",
       "      <td>0.016586</td>\n",
       "      <td>0.000889</td>\n",
       "      <td>0.000000</td>\n",
       "      <td>0.000000</td>\n",
       "      <td>entropy</td>\n",
       "      <td>auto</td>\n",
       "      <td>10</td>\n",
       "      <td>{'criterion': 'entropy', 'max_features': 'auto...</td>\n",
       "      <td>0.828571</td>\n",
       "      <td>0.816901</td>\n",
       "      <td>0.857143</td>\n",
       "      <td>0.834185</td>\n",
       "      <td>0.016878</td>\n",
       "      <td>7</td>\n",
       "    </tr>\n",
       "    <tr>\n",
       "      <td>7</td>\n",
       "      <td>0.066775</td>\n",
       "      <td>0.006924</td>\n",
       "      <td>0.010418</td>\n",
       "      <td>0.007367</td>\n",
       "      <td>entropy</td>\n",
       "      <td>auto</td>\n",
       "      <td>100</td>\n",
       "      <td>{'criterion': 'entropy', 'max_features': 'auto...</td>\n",
       "      <td>0.794118</td>\n",
       "      <td>0.833333</td>\n",
       "      <td>0.895522</td>\n",
       "      <td>0.840824</td>\n",
       "      <td>0.041770</td>\n",
       "      <td>5</td>\n",
       "    </tr>\n",
       "    <tr>\n",
       "      <td>8</td>\n",
       "      <td>0.006213</td>\n",
       "      <td>0.006772</td>\n",
       "      <td>0.000000</td>\n",
       "      <td>0.000000</td>\n",
       "      <td>entropy</td>\n",
       "      <td>sqrt</td>\n",
       "      <td>10</td>\n",
       "      <td>{'criterion': 'entropy', 'max_features': 'sqrt...</td>\n",
       "      <td>0.818182</td>\n",
       "      <td>0.828571</td>\n",
       "      <td>0.843750</td>\n",
       "      <td>0.830125</td>\n",
       "      <td>0.010505</td>\n",
       "      <td>8</td>\n",
       "    </tr>\n",
       "    <tr>\n",
       "      <td>9</td>\n",
       "      <td>0.063020</td>\n",
       "      <td>0.000166</td>\n",
       "      <td>0.011375</td>\n",
       "      <td>0.008086</td>\n",
       "      <td>entropy</td>\n",
       "      <td>sqrt</td>\n",
       "      <td>100</td>\n",
       "      <td>{'criterion': 'entropy', 'max_features': 'sqrt...</td>\n",
       "      <td>0.828571</td>\n",
       "      <td>0.833333</td>\n",
       "      <td>0.895522</td>\n",
       "      <td>0.852390</td>\n",
       "      <td>0.030479</td>\n",
       "      <td>3</td>\n",
       "    </tr>\n",
       "    <tr>\n",
       "      <td>10</td>\n",
       "      <td>0.010414</td>\n",
       "      <td>0.007364</td>\n",
       "      <td>0.000000</td>\n",
       "      <td>0.000000</td>\n",
       "      <td>entropy</td>\n",
       "      <td>log2</td>\n",
       "      <td>10</td>\n",
       "      <td>{'criterion': 'entropy', 'max_features': 'log2...</td>\n",
       "      <td>0.794118</td>\n",
       "      <td>0.735294</td>\n",
       "      <td>0.911765</td>\n",
       "      <td>0.813655</td>\n",
       "      <td>0.073244</td>\n",
       "      <td>11</td>\n",
       "    </tr>\n",
       "    <tr>\n",
       "      <td>11</td>\n",
       "      <td>0.059413</td>\n",
       "      <td>0.006603</td>\n",
       "      <td>0.000000</td>\n",
       "      <td>0.000000</td>\n",
       "      <td>entropy</td>\n",
       "      <td>log2</td>\n",
       "      <td>100</td>\n",
       "      <td>{'criterion': 'entropy', 'max_features': 'log2...</td>\n",
       "      <td>0.828571</td>\n",
       "      <td>0.849315</td>\n",
       "      <td>0.895522</td>\n",
       "      <td>0.857699</td>\n",
       "      <td>0.027988</td>\n",
       "      <td>1</td>\n",
       "    </tr>\n",
       "  </tbody>\n",
       "</table>\n",
       "</div>"
      ],
      "text/plain": [
       "    mean_fit_time  std_fit_time  mean_score_time  std_score_time  \\\n",
       "0        0.020454      0.007968         0.002671        0.003778   \n",
       "1        0.077933      0.001402         0.011641        0.006105   \n",
       "2        0.010528      0.007674         0.005233        0.007400   \n",
       "3        0.047633      0.000110         0.004388        0.000267   \n",
       "4        0.015111      0.000747         0.000669        0.000946   \n",
       "5        0.076003      0.009727         0.008017        0.006549   \n",
       "6        0.016586      0.000889         0.000000        0.000000   \n",
       "7        0.066775      0.006924         0.010418        0.007367   \n",
       "8        0.006213      0.006772         0.000000        0.000000   \n",
       "9        0.063020      0.000166         0.011375        0.008086   \n",
       "10       0.010414      0.007364         0.000000        0.000000   \n",
       "11       0.059413      0.006603         0.000000        0.000000   \n",
       "\n",
       "   param_criterion param_max_features param_n_estimators  \\\n",
       "0             gini               auto                 10   \n",
       "1             gini               auto                100   \n",
       "2             gini               sqrt                 10   \n",
       "3             gini               sqrt                100   \n",
       "4             gini               log2                 10   \n",
       "5             gini               log2                100   \n",
       "6          entropy               auto                 10   \n",
       "7          entropy               auto                100   \n",
       "8          entropy               sqrt                 10   \n",
       "9          entropy               sqrt                100   \n",
       "10         entropy               log2                 10   \n",
       "11         entropy               log2                100   \n",
       "\n",
       "                                               params  split0_test_score  \\\n",
       "0   {'criterion': 'gini', 'max_features': 'auto', ...           0.776119   \n",
       "1   {'criterion': 'gini', 'max_features': 'auto', ...           0.811594   \n",
       "2   {'criterion': 'gini', 'max_features': 'sqrt', ...           0.776119   \n",
       "3   {'criterion': 'gini', 'max_features': 'sqrt', ...           0.828571   \n",
       "4   {'criterion': 'gini', 'max_features': 'log2', ...           0.761905   \n",
       "5   {'criterion': 'gini', 'max_features': 'log2', ...           0.794118   \n",
       "6   {'criterion': 'entropy', 'max_features': 'auto...           0.828571   \n",
       "7   {'criterion': 'entropy', 'max_features': 'auto...           0.794118   \n",
       "8   {'criterion': 'entropy', 'max_features': 'sqrt...           0.818182   \n",
       "9   {'criterion': 'entropy', 'max_features': 'sqrt...           0.828571   \n",
       "10  {'criterion': 'entropy', 'max_features': 'log2...           0.794118   \n",
       "11  {'criterion': 'entropy', 'max_features': 'log2...           0.828571   \n",
       "\n",
       "    split1_test_score  split2_test_score  mean_test_score  std_test_score  \\\n",
       "0            0.828571           0.865672         0.823285        0.036781   \n",
       "1            0.833333           0.911765         0.852086        0.043014   \n",
       "2            0.821918           0.843750         0.813794        0.028222   \n",
       "3            0.849315           0.895522         0.857699        0.027988   \n",
       "4            0.800000           0.825397         0.795646        0.026124   \n",
       "5            0.833333           0.878788         0.835265        0.034624   \n",
       "6            0.816901           0.857143         0.834185        0.016878   \n",
       "7            0.833333           0.895522         0.840824        0.041770   \n",
       "8            0.828571           0.843750         0.830125        0.010505   \n",
       "9            0.833333           0.895522         0.852390        0.030479   \n",
       "10           0.735294           0.911765         0.813655        0.073244   \n",
       "11           0.849315           0.895522         0.857699        0.027988   \n",
       "\n",
       "    rank_test_score  \n",
       "0                 9  \n",
       "1                 4  \n",
       "2                10  \n",
       "3                 1  \n",
       "4                12  \n",
       "5                 6  \n",
       "6                 7  \n",
       "7                 5  \n",
       "8                 8  \n",
       "9                 3  \n",
       "10               11  \n",
       "11                1  "
      ]
     },
     "execution_count": 16,
     "metadata": {},
     "output_type": "execute_result"
    }
   ],
   "source": [
    "table"
   ]
  },
  {
   "cell_type": "code",
   "execution_count": null,
   "metadata": {},
   "outputs": [],
   "source": []
  }
 ],
 "metadata": {
  "kernelspec": {
   "display_name": "Python 3",
   "language": "python",
   "name": "python3"
  },
  "language_info": {
   "codemirror_mode": {
    "name": "ipython",
    "version": 3
   },
   "file_extension": ".py",
   "mimetype": "text/x-python",
   "name": "python",
   "nbconvert_exporter": "python",
   "pygments_lexer": "ipython3",
   "version": "3.7.4"
  }
 },
 "nbformat": 4,
 "nbformat_minor": 2
}
