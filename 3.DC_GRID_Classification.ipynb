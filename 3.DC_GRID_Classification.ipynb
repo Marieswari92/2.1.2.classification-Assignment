{
 "cells": [
  {
   "cell_type": "code",
   "execution_count": 1,
   "metadata": {},
   "outputs": [],
   "source": [
    "import numpy as np\n",
    "import matplotlib.pyplot as plt\n",
    "import pandas as pd"
   ]
  },
  {
   "cell_type": "code",
   "execution_count": 2,
   "metadata": {},
   "outputs": [],
   "source": [
    "dataset=pd.read_csv(\"Social_Network_Ads.csv\")"
   ]
  },
  {
   "cell_type": "code",
   "execution_count": 3,
   "metadata": {},
   "outputs": [],
   "source": [
    "data=pd.get_dummies(dataset,drop_first=True)"
   ]
  },
  {
   "cell_type": "code",
   "execution_count": 4,
   "metadata": {},
   "outputs": [
    {
     "data": {
      "text/plain": [
       "Index(['User ID', 'Age', 'EstimatedSalary', 'Purchased', 'Gender_Male'], dtype='object')"
      ]
     },
     "execution_count": 4,
     "metadata": {},
     "output_type": "execute_result"
    }
   ],
   "source": [
    "data.columns"
   ]
  },
  {
   "cell_type": "code",
   "execution_count": 5,
   "metadata": {},
   "outputs": [],
   "source": [
    "independent=data[['Age', 'EstimatedSalary','Gender_Male']]\n",
    "dependent=data[['Purchased']]"
   ]
  },
  {
   "cell_type": "code",
   "execution_count": 6,
   "metadata": {},
   "outputs": [],
   "source": [
    "from sklearn.model_selection import train_test_split\n",
    "x_train,x_test,y_train,y_test=train_test_split(independent,dependent,test_size=0.30,random_state=0)"
   ]
  },
  {
   "cell_type": "code",
   "execution_count": 7,
   "metadata": {},
   "outputs": [],
   "source": [
    "from sklearn.preprocessing import StandardScaler\n",
    "sc=StandardScaler()\n",
    "x_train=sc.fit_transform(x_train)\n",
    "x_test=sc.transform(x_test)"
   ]
  },
  {
   "cell_type": "code",
   "execution_count": 8,
   "metadata": {},
   "outputs": [],
   "source": [
    "from sklearn.tree import DecisionTreeClassifier"
   ]
  },
  {
   "cell_type": "code",
   "execution_count": 9,
   "metadata": {},
   "outputs": [
    {
     "name": "stderr",
     "output_type": "stream",
     "text": [
      "C:\\Users\\jagadeesh\\Anaconda3\\lib\\site-packages\\sklearn\\model_selection\\_split.py:1978: FutureWarning: The default value of cv will change from 3 to 5 in version 0.22. Specify it explicitly to silence this warning.\n",
      "  warnings.warn(CV_WARNING, FutureWarning)\n",
      "[Parallel(n_jobs=-1)]: Using backend LokyBackend with 12 concurrent workers.\n"
     ]
    },
    {
     "name": "stdout",
     "output_type": "stream",
     "text": [
      "Fitting 3 folds for each of 12 candidates, totalling 36 fits\n"
     ]
    },
    {
     "name": "stderr",
     "output_type": "stream",
     "text": [
      "[Parallel(n_jobs=-1)]: Done   8 tasks      | elapsed:    1.6s\n",
      "[Parallel(n_jobs=-1)]: Done  26 out of  36 | elapsed:    1.7s remaining:    0.6s\n",
      "[Parallel(n_jobs=-1)]: Done  36 out of  36 | elapsed:    1.8s finished\n",
      "C:\\Users\\jagadeesh\\Anaconda3\\lib\\site-packages\\sklearn\\model_selection\\_search.py:814: DeprecationWarning: The default of the `iid` parameter will change from True to False in version 0.22 and will be removed in 0.24. This will change numeric results when test-set sizes are unequal.\n",
      "  DeprecationWarning)\n"
     ]
    },
    {
     "data": {
      "text/plain": [
       "GridSearchCV(cv='warn', error_score='raise-deprecating',\n",
       "             estimator=DecisionTreeClassifier(class_weight=None,\n",
       "                                              criterion='gini', max_depth=None,\n",
       "                                              max_features=None,\n",
       "                                              max_leaf_nodes=None,\n",
       "                                              min_impurity_decrease=0.0,\n",
       "                                              min_impurity_split=None,\n",
       "                                              min_samples_leaf=1,\n",
       "                                              min_samples_split=2,\n",
       "                                              min_weight_fraction_leaf=0.0,\n",
       "                                              presort=False, random_state=None,\n",
       "                                              splitter='best'),\n",
       "             iid='warn', n_jobs=-1,\n",
       "             param_grid={'criterion': ['gini', 'entropy'],\n",
       "                         'max_features': ['auto', 'sqrt', 'log2'],\n",
       "                         'splitter': ['best', 'random']},\n",
       "             pre_dispatch='2*n_jobs', refit=True, return_train_score=False,\n",
       "             scoring='f1_weighted', verbose=3)"
      ]
     },
     "execution_count": 9,
     "metadata": {},
     "output_type": "execute_result"
    }
   ],
   "source": [
    "from sklearn.model_selection import GridSearchCV\n",
    "\n",
    "param_grid={'criterion':['gini','entropy'],'max_features':['auto','sqrt','log2'], 'splitter':['best','random']}\n",
    "\n",
    "grid=GridSearchCV(DecisionTreeClassifier(),param_grid,refit=True,verbose=3,n_jobs=-1,scoring='f1_weighted')\n",
    "\n",
    "grid.fit(x_train,y_train)"
   ]
  },
  {
   "cell_type": "code",
   "execution_count": 10,
   "metadata": {},
   "outputs": [],
   "source": [
    "re=grid.cv_results_\n",
    "\n",
    "grid_pred=grid.predict(x_test)\n",
    "\n",
    "from sklearn.metrics import confusion_matrix\n",
    "cm=confusion_matrix(y_test,grid_pred)\n",
    "\n",
    "from sklearn.metrics import classification_report\n",
    "clf_report=classification_report(y_test,grid_pred)"
   ]
  },
  {
   "cell_type": "code",
   "execution_count": 11,
   "metadata": {},
   "outputs": [
    {
     "name": "stdout",
     "output_type": "stream",
     "text": [
      "              precision    recall  f1-score   support\n",
      "\n",
      "           0       0.92      0.91      0.92        79\n",
      "           1       0.83      0.85      0.84        41\n",
      "\n",
      "    accuracy                           0.89       120\n",
      "   macro avg       0.88      0.88      0.88       120\n",
      "weighted avg       0.89      0.89      0.89       120\n",
      "\n"
     ]
    }
   ],
   "source": [
    "print(clf_report)\n"
   ]
  },
  {
   "cell_type": "code",
   "execution_count": 12,
   "metadata": {},
   "outputs": [
    {
     "name": "stdout",
     "output_type": "stream",
     "text": [
      "[[72  7]\n",
      " [ 6 35]]\n"
     ]
    }
   ],
   "source": [
    "print(cm)"
   ]
  },
  {
   "cell_type": "code",
   "execution_count": 13,
   "metadata": {},
   "outputs": [
    {
     "name": "stdout",
     "output_type": "stream",
     "text": [
      "The f1_macro value for best parameter{'criterion': 'entropy', 'max_features': 'sqrt', 'splitter': 'best'}: 0.8919742664927225\n"
     ]
    }
   ],
   "source": [
    "from sklearn.metrics import f1_score\n",
    "f1_macro=f1_score(y_test,grid_pred,average='weighted')\n",
    "print(\"The f1_macro value for best parameter{}:\".format(grid.best_params_),f1_macro)"
   ]
  },
  {
   "cell_type": "code",
   "execution_count": 14,
   "metadata": {},
   "outputs": [
    {
     "data": {
      "text/plain": [
       "0.8825254708243284"
      ]
     },
     "execution_count": 14,
     "metadata": {},
     "output_type": "execute_result"
    }
   ],
   "source": [
    "from sklearn.metrics import roc_auc_score\n",
    "roc_auc_score(y_test,grid.predict_proba(x_test)[:,1])"
   ]
  },
  {
   "cell_type": "code",
   "execution_count": 15,
   "metadata": {},
   "outputs": [],
   "source": [
    "table=pd.DataFrame.from_dict(re)"
   ]
  },
  {
   "cell_type": "code",
   "execution_count": 16,
   "metadata": {},
   "outputs": [
    {
     "data": {
      "text/html": [
       "<div>\n",
       "<style scoped>\n",
       "    .dataframe tbody tr th:only-of-type {\n",
       "        vertical-align: middle;\n",
       "    }\n",
       "\n",
       "    .dataframe tbody tr th {\n",
       "        vertical-align: top;\n",
       "    }\n",
       "\n",
       "    .dataframe thead th {\n",
       "        text-align: right;\n",
       "    }\n",
       "</style>\n",
       "<table border=\"1\" class=\"dataframe\">\n",
       "  <thead>\n",
       "    <tr style=\"text-align: right;\">\n",
       "      <th></th>\n",
       "      <th>mean_fit_time</th>\n",
       "      <th>std_fit_time</th>\n",
       "      <th>mean_score_time</th>\n",
       "      <th>std_score_time</th>\n",
       "      <th>param_criterion</th>\n",
       "      <th>param_max_features</th>\n",
       "      <th>param_splitter</th>\n",
       "      <th>params</th>\n",
       "      <th>split0_test_score</th>\n",
       "      <th>split1_test_score</th>\n",
       "      <th>split2_test_score</th>\n",
       "      <th>mean_test_score</th>\n",
       "      <th>std_test_score</th>\n",
       "      <th>rank_test_score</th>\n",
       "    </tr>\n",
       "  </thead>\n",
       "  <tbody>\n",
       "    <tr>\n",
       "      <td>0</td>\n",
       "      <td>0.005961</td>\n",
       "      <td>0.007044</td>\n",
       "      <td>0.001683</td>\n",
       "      <td>0.002381</td>\n",
       "      <td>gini</td>\n",
       "      <td>auto</td>\n",
       "      <td>best</td>\n",
       "      <td>{'criterion': 'gini', 'max_features': 'auto', ...</td>\n",
       "      <td>0.811664</td>\n",
       "      <td>0.839189</td>\n",
       "      <td>0.844205</td>\n",
       "      <td>0.831615</td>\n",
       "      <td>0.014330</td>\n",
       "      <td>7</td>\n",
       "    </tr>\n",
       "    <tr>\n",
       "      <td>1</td>\n",
       "      <td>0.000000</td>\n",
       "      <td>0.000000</td>\n",
       "      <td>0.003019</td>\n",
       "      <td>0.002135</td>\n",
       "      <td>gini</td>\n",
       "      <td>auto</td>\n",
       "      <td>random</td>\n",
       "      <td>{'criterion': 'gini', 'max_features': 'auto', ...</td>\n",
       "      <td>0.827213</td>\n",
       "      <td>0.797350</td>\n",
       "      <td>0.847226</td>\n",
       "      <td>0.823942</td>\n",
       "      <td>0.020458</td>\n",
       "      <td>11</td>\n",
       "    </tr>\n",
       "    <tr>\n",
       "      <td>2</td>\n",
       "      <td>0.000175</td>\n",
       "      <td>0.000248</td>\n",
       "      <td>0.000000</td>\n",
       "      <td>0.000000</td>\n",
       "      <td>gini</td>\n",
       "      <td>sqrt</td>\n",
       "      <td>best</td>\n",
       "      <td>{'criterion': 'gini', 'max_features': 'sqrt', ...</td>\n",
       "      <td>0.827213</td>\n",
       "      <td>0.882677</td>\n",
       "      <td>0.836987</td>\n",
       "      <td>0.848881</td>\n",
       "      <td>0.024165</td>\n",
       "      <td>4</td>\n",
       "    </tr>\n",
       "    <tr>\n",
       "      <td>3</td>\n",
       "      <td>0.003276</td>\n",
       "      <td>0.003296</td>\n",
       "      <td>0.000774</td>\n",
       "      <td>0.001094</td>\n",
       "      <td>gini</td>\n",
       "      <td>sqrt</td>\n",
       "      <td>random</td>\n",
       "      <td>{'criterion': 'gini', 'max_features': 'sqrt', ...</td>\n",
       "      <td>0.851929</td>\n",
       "      <td>0.797350</td>\n",
       "      <td>0.847226</td>\n",
       "      <td>0.832239</td>\n",
       "      <td>0.024679</td>\n",
       "      <td>6</td>\n",
       "    </tr>\n",
       "    <tr>\n",
       "      <td>4</td>\n",
       "      <td>0.010548</td>\n",
       "      <td>0.007463</td>\n",
       "      <td>0.000000</td>\n",
       "      <td>0.000000</td>\n",
       "      <td>gini</td>\n",
       "      <td>log2</td>\n",
       "      <td>best</td>\n",
       "      <td>{'criterion': 'gini', 'max_features': 'log2', ...</td>\n",
       "      <td>0.772199</td>\n",
       "      <td>0.840013</td>\n",
       "      <td>0.881335</td>\n",
       "      <td>0.830972</td>\n",
       "      <td>0.045047</td>\n",
       "      <td>8</td>\n",
       "    </tr>\n",
       "    <tr>\n",
       "      <td>5</td>\n",
       "      <td>0.005170</td>\n",
       "      <td>0.007311</td>\n",
       "      <td>0.000000</td>\n",
       "      <td>0.000000</td>\n",
       "      <td>gini</td>\n",
       "      <td>log2</td>\n",
       "      <td>random</td>\n",
       "      <td>{'criterion': 'gini', 'max_features': 'log2', ...</td>\n",
       "      <td>0.810528</td>\n",
       "      <td>0.828932</td>\n",
       "      <td>0.801769</td>\n",
       "      <td>0.813731</td>\n",
       "      <td>0.011301</td>\n",
       "      <td>12</td>\n",
       "    </tr>\n",
       "    <tr>\n",
       "      <td>6</td>\n",
       "      <td>0.000000</td>\n",
       "      <td>0.000000</td>\n",
       "      <td>0.000000</td>\n",
       "      <td>0.000000</td>\n",
       "      <td>entropy</td>\n",
       "      <td>auto</td>\n",
       "      <td>best</td>\n",
       "      <td>{'criterion': 'entropy', 'max_features': 'auto...</td>\n",
       "      <td>0.828603</td>\n",
       "      <td>0.816608</td>\n",
       "      <td>0.847226</td>\n",
       "      <td>0.830805</td>\n",
       "      <td>0.012575</td>\n",
       "      <td>9</td>\n",
       "    </tr>\n",
       "    <tr>\n",
       "      <td>7</td>\n",
       "      <td>0.000000</td>\n",
       "      <td>0.000000</td>\n",
       "      <td>0.005212</td>\n",
       "      <td>0.007371</td>\n",
       "      <td>entropy</td>\n",
       "      <td>auto</td>\n",
       "      <td>random</td>\n",
       "      <td>{'criterion': 'entropy', 'max_features': 'auto...</td>\n",
       "      <td>0.829787</td>\n",
       "      <td>0.851003</td>\n",
       "      <td>0.848436</td>\n",
       "      <td>0.843028</td>\n",
       "      <td>0.009471</td>\n",
       "      <td>5</td>\n",
       "    </tr>\n",
       "    <tr>\n",
       "      <td>8</td>\n",
       "      <td>0.006215</td>\n",
       "      <td>0.006774</td>\n",
       "      <td>0.005212</td>\n",
       "      <td>0.007371</td>\n",
       "      <td>entropy</td>\n",
       "      <td>sqrt</td>\n",
       "      <td>best</td>\n",
       "      <td>{'criterion': 'entropy', 'max_features': 'sqrt...</td>\n",
       "      <td>0.838689</td>\n",
       "      <td>0.860631</td>\n",
       "      <td>0.882072</td>\n",
       "      <td>0.860386</td>\n",
       "      <td>0.017727</td>\n",
       "      <td>1</td>\n",
       "    </tr>\n",
       "    <tr>\n",
       "      <td>9</td>\n",
       "      <td>0.001003</td>\n",
       "      <td>0.001418</td>\n",
       "      <td>0.000000</td>\n",
       "      <td>0.000000</td>\n",
       "      <td>entropy</td>\n",
       "      <td>sqrt</td>\n",
       "      <td>random</td>\n",
       "      <td>{'criterion': 'entropy', 'max_features': 'sqrt...</td>\n",
       "      <td>0.862123</td>\n",
       "      <td>0.819971</td>\n",
       "      <td>0.890876</td>\n",
       "      <td>0.857673</td>\n",
       "      <td>0.029068</td>\n",
       "      <td>2</td>\n",
       "    </tr>\n",
       "    <tr>\n",
       "      <td>10</td>\n",
       "      <td>0.002934</td>\n",
       "      <td>0.004149</td>\n",
       "      <td>0.003527</td>\n",
       "      <td>0.003799</td>\n",
       "      <td>entropy</td>\n",
       "      <td>log2</td>\n",
       "      <td>best</td>\n",
       "      <td>{'criterion': 'entropy', 'max_features': 'log2...</td>\n",
       "      <td>0.850028</td>\n",
       "      <td>0.818682</td>\n",
       "      <td>0.880457</td>\n",
       "      <td>0.849723</td>\n",
       "      <td>0.025176</td>\n",
       "      <td>3</td>\n",
       "    </tr>\n",
       "    <tr>\n",
       "      <td>11</td>\n",
       "      <td>0.001736</td>\n",
       "      <td>0.001400</td>\n",
       "      <td>0.000837</td>\n",
       "      <td>0.001184</td>\n",
       "      <td>entropy</td>\n",
       "      <td>log2</td>\n",
       "      <td>random</td>\n",
       "      <td>{'criterion': 'entropy', 'max_features': 'log2...</td>\n",
       "      <td>0.785754</td>\n",
       "      <td>0.840013</td>\n",
       "      <td>0.858722</td>\n",
       "      <td>0.828012</td>\n",
       "      <td>0.030993</td>\n",
       "      <td>10</td>\n",
       "    </tr>\n",
       "  </tbody>\n",
       "</table>\n",
       "</div>"
      ],
      "text/plain": [
       "    mean_fit_time  std_fit_time  mean_score_time  std_score_time  \\\n",
       "0        0.005961      0.007044         0.001683        0.002381   \n",
       "1        0.000000      0.000000         0.003019        0.002135   \n",
       "2        0.000175      0.000248         0.000000        0.000000   \n",
       "3        0.003276      0.003296         0.000774        0.001094   \n",
       "4        0.010548      0.007463         0.000000        0.000000   \n",
       "5        0.005170      0.007311         0.000000        0.000000   \n",
       "6        0.000000      0.000000         0.000000        0.000000   \n",
       "7        0.000000      0.000000         0.005212        0.007371   \n",
       "8        0.006215      0.006774         0.005212        0.007371   \n",
       "9        0.001003      0.001418         0.000000        0.000000   \n",
       "10       0.002934      0.004149         0.003527        0.003799   \n",
       "11       0.001736      0.001400         0.000837        0.001184   \n",
       "\n",
       "   param_criterion param_max_features param_splitter  \\\n",
       "0             gini               auto           best   \n",
       "1             gini               auto         random   \n",
       "2             gini               sqrt           best   \n",
       "3             gini               sqrt         random   \n",
       "4             gini               log2           best   \n",
       "5             gini               log2         random   \n",
       "6          entropy               auto           best   \n",
       "7          entropy               auto         random   \n",
       "8          entropy               sqrt           best   \n",
       "9          entropy               sqrt         random   \n",
       "10         entropy               log2           best   \n",
       "11         entropy               log2         random   \n",
       "\n",
       "                                               params  split0_test_score  \\\n",
       "0   {'criterion': 'gini', 'max_features': 'auto', ...           0.811664   \n",
       "1   {'criterion': 'gini', 'max_features': 'auto', ...           0.827213   \n",
       "2   {'criterion': 'gini', 'max_features': 'sqrt', ...           0.827213   \n",
       "3   {'criterion': 'gini', 'max_features': 'sqrt', ...           0.851929   \n",
       "4   {'criterion': 'gini', 'max_features': 'log2', ...           0.772199   \n",
       "5   {'criterion': 'gini', 'max_features': 'log2', ...           0.810528   \n",
       "6   {'criterion': 'entropy', 'max_features': 'auto...           0.828603   \n",
       "7   {'criterion': 'entropy', 'max_features': 'auto...           0.829787   \n",
       "8   {'criterion': 'entropy', 'max_features': 'sqrt...           0.838689   \n",
       "9   {'criterion': 'entropy', 'max_features': 'sqrt...           0.862123   \n",
       "10  {'criterion': 'entropy', 'max_features': 'log2...           0.850028   \n",
       "11  {'criterion': 'entropy', 'max_features': 'log2...           0.785754   \n",
       "\n",
       "    split1_test_score  split2_test_score  mean_test_score  std_test_score  \\\n",
       "0            0.839189           0.844205         0.831615        0.014330   \n",
       "1            0.797350           0.847226         0.823942        0.020458   \n",
       "2            0.882677           0.836987         0.848881        0.024165   \n",
       "3            0.797350           0.847226         0.832239        0.024679   \n",
       "4            0.840013           0.881335         0.830972        0.045047   \n",
       "5            0.828932           0.801769         0.813731        0.011301   \n",
       "6            0.816608           0.847226         0.830805        0.012575   \n",
       "7            0.851003           0.848436         0.843028        0.009471   \n",
       "8            0.860631           0.882072         0.860386        0.017727   \n",
       "9            0.819971           0.890876         0.857673        0.029068   \n",
       "10           0.818682           0.880457         0.849723        0.025176   \n",
       "11           0.840013           0.858722         0.828012        0.030993   \n",
       "\n",
       "    rank_test_score  \n",
       "0                 7  \n",
       "1                11  \n",
       "2                 4  \n",
       "3                 6  \n",
       "4                 8  \n",
       "5                12  \n",
       "6                 9  \n",
       "7                 5  \n",
       "8                 1  \n",
       "9                 2  \n",
       "10                3  \n",
       "11               10  "
      ]
     },
     "execution_count": 16,
     "metadata": {},
     "output_type": "execute_result"
    }
   ],
   "source": [
    "table"
   ]
  },
  {
   "cell_type": "code",
   "execution_count": null,
   "metadata": {},
   "outputs": [],
   "source": []
  }
 ],
 "metadata": {
  "kernelspec": {
   "display_name": "Python 3",
   "language": "python",
   "name": "python3"
  },
  "language_info": {
   "codemirror_mode": {
    "name": "ipython",
    "version": 3
   },
   "file_extension": ".py",
   "mimetype": "text/x-python",
   "name": "python",
   "nbconvert_exporter": "python",
   "pygments_lexer": "ipython3",
   "version": "3.7.4"
  }
 },
 "nbformat": 4,
 "nbformat_minor": 2
}
